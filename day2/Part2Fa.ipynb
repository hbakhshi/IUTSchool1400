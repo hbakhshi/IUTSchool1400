{
 "cells": [
  {
   "cell_type": "markdown",
   "id": "a6cd6b0c",
   "metadata": {
    "direction": "rtl"
   },
   "source": [
    "<div dir =\"rtl\">\n",
    "    \n",
    "<p>الان می‌خواهیم ببینیم که رویدادهای با 4 لپتون از کجا می‌آیند.<br>بنابراین لازم است برخوردهای پروتون-پروتون را شبیه‌سازی کنیم.<br>بیایید به رویدادهای شبیه‌سازی‌شده pp-&gt;ZZ-&gt;4muons نگاه کنیم. </p>\n",
    " \n",
    "</div> "
   ]
  },
  {
   "cell_type": "code",
   "execution_count": null,
   "id": "676b3ef7",
   "metadata": {},
   "outputs": [],
   "source": [
    "DIR='/home/RootFiles/'\n",
    "\n",
    "import ROOT\n",
    "%jsroot on\n",
    "\n",
    "canvas = ROOT.TCanvas(\"MainCanvas\")"
   ]
  },
  {
   "cell_type": "code",
   "execution_count": null,
   "id": "eb63d0c5",
   "metadata": {},
   "outputs": [],
   "source": [
    "fzz4mu12 = ROOT.TFile.Open(\"{0}/2012/simulation/ZZ4mu12.root\".format(DIR))\n",
    "hzz4mu12_invmass = fzz4mu12.demo.mass4mu_8TeV_low\n",
    "hzz4mu12_invmass.SetDirectory(0)\n",
    "hzz4mu12_invmass.Draw()\n",
    "canvas.Draw()\n",
    "fzz4mu12.Close()"
   ]
  },
  {
   "cell_type": "markdown",
   "id": "6eb7aeac",
   "metadata": {
    "direction": "rtl"
   },
   "source": [
    "<div dir =\"rtl\">\n",
    "    \n",
    "<p>اما این نمودار به خودی خود معنا ندارد.  برای اینکه تعبیر درستی از آن داشته باشیم، باید بدانیم چه تعداد رویداد برای کشیدن این نمودار استفاده شده‌اند.<br>برای سمپل ZZ4mu12 تعداد 1499064 رویداد تولید شده است. اگر تعداد در هر بین هیستوگرام به این مقدار کل تقسیم شود، پس می‌توان نمودار را به شکل احتمال ترجمه کرد. </p>\n",
    "</div> "
   ]
  },
  {
   "cell_type": "code",
   "execution_count": null,
   "id": "8744ce06",
   "metadata": {},
   "outputs": [],
   "source": [
    "nevtZZ4mu12 = 1499064\n",
    "hzz4mu12_invmass.Scale( 1.0 / nevtZZ4mu12)\n",
    "hzz4mu12_invmass.Draw(\"HIST\")\n",
    "canvas.Draw()"
   ]
  },
  {
   "cell_type": "markdown",
   "id": "94aeda8b",
   "metadata": {
    "direction": "rtl"
   },
   "source": [
    "<div dir =\"rtl\">\n",
    "    \n",
    "<p>از این نمودار دریافت می‌شود که چه کسری از رویدادهای pp-&gt;ZZ-&gt;4mu در سال 2012، 4 میون دارند و جرم ناوردا این 4 میون به چه صورتی توزیع شده است.  حالا سوال این است که اساسا چه تعداد از این رویدادها انتظار می‌رود در سال 2012 تولید شده باشند؟<br>برای پاسخ به این سوال، لازم است کمیت درخشندگی (luminosity) کل را برای سال 2012 بدانیم. اگر پارامتر درخشندگی را در سطح‌مقطع تولید این فرایند در انرژی مرکز جرم 8 تراالکترون‌ولت ضرب کنیم، تعداد انتظاری ما از این فرایند به‌دست می‌آید. </p>\n",
    "</div>    "
   ]
  },
  {
   "cell_type": "code",
   "execution_count": null,
   "id": "de7d0d76",
   "metadata": {},
   "outputs": [],
   "source": [
    "xsecZZ412 = 0.077\n",
    "lumi12 = 11580.\n",
    "sfZZ = 1.386\n",
    "\n",
    "totalNumberExpectedZZ = xsecZZ412*lumi12*sfZZ\n",
    "hzz4mu12_invmass.Scale(totalNumberExpectedZZ)\n",
    "hzz4mu12_invmass.Draw('HIST')\n",
    "canvas.Draw()"
   ]
  },
  {
   "cell_type": "markdown",
   "id": "a202ad8f",
   "metadata": {
    "direction": "rtl"
   },
   "source": [
    "<div dir=\"rtl\">\n",
    "    \n",
    "<p>حالا این نمودار به درستی نماینده رویدادهای pp-&gt;ZZ-&gt;4mu در سال 2012 در این آنالیز است.<br>ما می‌توانیم این تمرین را برای هر دو سال 2011 و 2012 و حالت‌های مختلف 4 الکترون، 4 میون و 2الکترون-2میون تکرار کنیم.</p>\n",
    "</div>"
   ]
  },
  {
   "cell_type": "code",
   "execution_count": null,
   "id": "01235b34",
   "metadata": {},
   "outputs": [],
   "source": [
    "ZZ4LepPlot = ROOT.THStack(\"ZZ4LeptPlot\" , \"\")\n",
    "ROOT.gStyle.SetPalette(ROOT.kRainBow)\n",
    "\n",
    "lumi = {12:11580. , 11:2330.}\n",
    "\n",
    "sfZZ = 1.386\n",
    "zz_xsections = {12:{'4e':0.077 , '4mu':0.077 , '2mu2e':0.18},\n",
    "                11:{'4e':0.067 , '4mu':0.067 , '2mu2e':0.15}}\n",
    "zz_totals = {12:{'4mu':1499064 , '4e':1499093 , '2mu2e':1497445},\n",
    "            11:{'4mu':1447136 , '4e':1493308 , '2mu2e':1479879}}\n",
    "allHists = {}\n",
    "for decaymode in ['4mu' , '4e' , '2mu2e']:\n",
    "    for year in [11,12]:\n",
    "        f = ROOT.TFile.Open(\"{0}20{1}/simulation/ZZ{2}{1}.root\".format(DIR , year , decaymode))\n",
    "        h1 = f.demo.Get(\"mass{0}_8TeV_low\".format(decaymode))\n",
    "        h1.SetDirectory(0)\n",
    "        h1.Scale( zz_xsections[year][decaymode]*lumi[year]*sfZZ / zz_totals[year][decaymode]  )\n",
    "        h1.SetTitle(\"{0}, 20{1}\".format( decaymode.replace('mu' , '#mu') ,year))\n",
    "        ZZ4LepPlot.Add(h1)\n",
    "        f.Close()\n",
    "\n",
    "ZZ4LepPlot.Draw(\"pfc plc pmc HIST\")\n",
    "ZZ4LepPlot.GetXaxis().SetTitle('m_{4l} [GeV]')\n",
    "canvas.BuildLegend(0.7,0.7,0.95,0.95 , \"Invariant of 4 leptons\", \"f\")\n",
    "canvas.Draw()"
   ]
  },
  {
   "cell_type": "markdown",
   "id": "03fcef15",
   "metadata": {
    "direction": "rtl"
   },
   "source": [
    "<div dir=\"rtl\">\n",
    "\n",
    "<p>این نمودار می‌تواند برای رویدادهای TTbar و DY نیز تولید شود. برای این منظور به اطلاعات سطح‌مقطع و تعداد کل این رویدادها نیز نیاز داریم:</p>\n",
    "</div> "
   ]
  },
  {
   "cell_type": "code",
   "execution_count": null,
   "id": "0af9882a",
   "metadata": {},
   "outputs": [],
   "source": [
    "sfTTBar = {11:0.11 , 12:1 }\n",
    "tt_xsections = {12:200. , 11:177.31}\n",
    "tt_totals = {12:6423106 , 11:9771205}\n",
    "\n",
    "sfDY = 1.12\n",
    "dy_xsections = {12:{10:10.742 , 50:2955.} ,\n",
    "               11:{10:9507. , 50:2475.}}\n",
    "dy_totals = {12:{10:6462290 , 50:29426492},\n",
    "             11:{10:39909640, 50:36408225}}"
   ]
  },
  {
   "cell_type": "markdown",
   "id": "9776ed5d",
   "metadata": {
    "direction": "rtl"
   },
   "source": [
    "<div dir=\"rtl\">\n",
    "  <h2>\n",
    "    تمرین ها\n",
    "  </h2>\n",
    "<ol>\n",
    "<li>\n",
    "<p>سعی کنید با استفاده از اطلاعات داده شده، نمودارهای مربوط به این دو پروسه را رسم کنید</p>\n",
    "</li>\n",
    "<li>\n",
    "<p>پلاتهایی که در مرحله ی قبل به دست اورده اید را با پلاتهایی که با اجرای کدهای پایین این صفحه به دست میاید مقایسه نمایید</p>\n",
    "<ul>\n",
    "<li>\n",
    "<p>آیا توانسته بودید پلاتها را به درستی به دست آورید؟</p>\n",
    "</li>\n",
    "</ul>\n",
    "</li>\n",
    "<li>نتیجه ی شبیه سازی را با نمودار داده ها که در بخش اول تمرین به دست اورده بودید مقایسه کنید. چه نتیجه ای میگیرید؟</li>\n",
    "</ol>\n",
    "</div>"
   ]
  },
  {
   "cell_type": "code",
   "execution_count": null,
   "id": "87aa4605",
   "metadata": {},
   "outputs": [],
   "source": [
    "TTPlot = ROOT.THStack(\"TTtPlot\" , \"\")\n",
    "ROOT.gStyle.SetPalette(ROOT.kRainBow)\n",
    "\n",
    "for year in [11,12]:\n",
    "    f = ROOT.TFile.Open(\"{0}20{1}/simulation/TTBar{1}.root\".format(DIR , year ))\n",
    "    for decaymode in ['4mu' , '4e' , '2mu2e']:\n",
    "        h1 = f.demo.Get(\"mass{0}_8TeV_low\".format(decaymode))\n",
    "        h1.SetDirectory(0)\n",
    "        h1.Scale( tt_xsections[year]*lumi[year]*sfTTBar[year] / tt_totals[year]  )\n",
    "        h1.SetTitle(\"{0}, 20{1}\".format( decaymode.replace('mu' , '#mu') ,year))\n",
    "        TTPlot.Add(h1)\n",
    "    f.Close()\n",
    "\n",
    "TTPlot.Draw(\"pfc plc pmc HIST\")\n",
    "TTPlot.GetXaxis().SetTitle('m_{4l} [GeV]')\n",
    "canvas.BuildLegend(0.7,0.7,0.95,0.95 , \"Invariant of 4 leptons\", \"f\")\n",
    "canvas.Draw()\n"
   ]
  },
  {
   "cell_type": "code",
   "execution_count": null,
   "id": "465ca7b2",
   "metadata": {},
   "outputs": [],
   "source": [
    "DYPlot = ROOT.THStack(\"DYtPlot\" , \"\")\n",
    "ROOT.gStyle.SetPalette(ROOT.kRainBow)\n",
    "\n",
    "for mass in [10,50]:\n",
    "    fname_extension = 'TuneZ' if mass == 50 else ''\n",
    "    for year in [11,12]:\n",
    "        f = ROOT.TFile.Open(\"{0}20{1}/simulation/DY{2}{3}{1}.root\".format(DIR , year , mass , fname_extension ))\n",
    "        for decaymode in ['4mu' , '4e' , '2mu2e']:\n",
    "            h1 = f.demo.Get(\"mass{0}_8TeV_low\".format(decaymode))\n",
    "            h1.SetDirectory(0)\n",
    "            h1.Scale( dy_xsections[year][mass]*lumi[year]*sfDY / dy_totals[year][mass]  )\n",
    "            h1.SetTitle(\"DY({2}), {0}, 20{1}\".format( decaymode.replace('mu' , '#mu') ,year , mass))\n",
    "            DYPlot.Add(h1)\n",
    "        f.Close()\n",
    "\n",
    "DYPlot.Draw(\"pfc plc pmc HIST\")\n",
    "DYPlot.GetXaxis().SetTitle('m_{4l} [GeV]')\n",
    "canvas.BuildLegend(0.7,0.7,0.95,0.95 , \"Invariant of 4 leptons\", \"f\")\n",
    "canvas.Draw()"
   ]
  }
 ],
 "metadata": {
  "kernelspec": {
   "display_name": "Python 3 (ipykernel)",
   "language": "python",
   "name": "python3"
  },
  "language_info": {
   "codemirror_mode": {
    "name": "ipython",
    "version": 3
   },
   "file_extension": ".py",
   "mimetype": "text/x-python",
   "name": "python",
   "nbconvert_exporter": "python",
   "pygments_lexer": "ipython3",
   "version": "3.7.10"
  }
 },
 "nbformat": 4,
 "nbformat_minor": 5
}
