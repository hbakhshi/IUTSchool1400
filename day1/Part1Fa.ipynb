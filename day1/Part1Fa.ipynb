{
 "cells": [
  {
   "cell_type": "markdown",
   "id": "37fbdcdc",
   "metadata": {
    "direction": "rtl"
   },
   "source": [
    "<div dir = \"rtl\">\n",
    "    \n",
    "<p>فایل های مورد نظر در دایرکتوری <code>/home/RootFiles/</code> قرار گرفته اند. ابتدا نگاهی بیندازیم به محتویات درون این دایرکتوری:</p>\n",
    "\n",
    "</div>"
   ]
  },
  {
   "cell_type": "code",
   "execution_count": null,
   "id": "e4ea1372",
   "metadata": {},
   "outputs": [],
   "source": [
    "DIR='/home/RootFiles/'\n",
    "import os\n",
    "dirs = sorted( [DIR+f for f in os.listdir(DIR)] )\n",
    "for f in dirs:\n",
    "    print(f)"
   ]
  },
  {
   "cell_type": "markdown",
   "id": "ea2983bc",
   "metadata": {
    "direction": "rtl"
   },
   "source": [
    "<div dir = \"rtl\">\n",
    "    \n",
    "<p>فایل ها در دو دایرکتوری مجزا قرار گرفته اند:  </p>\n",
    "<ul>\n",
    "<li>فایل های سال 2011 در دایرکتوری <code>2011</code>   </li>\n",
    "<li>فایل های سال 2012 در دایرکتوری <code>2012</code> </li>\n",
    "</ul>\n",
    "<p>در ادامه با کمک دستورات زیر محتویات درون این دایرکتوری ها نمایش داده خواهد شد.</p>\n",
    "\n",
    " </div>    "
   ]
  },
  {
   "cell_type": "code",
   "execution_count": null,
   "id": "1ee84a70",
   "metadata": {},
   "outputs": [],
   "source": [
    "subDirs = {}\n",
    "for year in [2011, 2012]:\n",
    "    yearDir = \"{0}/{1}\".format(DIR, year)\n",
    "    AllFiles = [\"{0}/{1}/{2}\".format(DIR, year , f) for f in os.listdir(yearDir)]\n",
    "    subDirs[year] = sorted( AllFiles )\n",
    "    \n",
    "    print(year, \":\")\n",
    "    for f in subDirs[year]:\n",
    "        print('\\t', f)"
   ]
  },
  {
   "cell_type": "markdown",
   "id": "e74e8380",
   "metadata": {
    "direction": "rtl"
   },
   "source": [
    "<div dir = \"rtl\">\n",
    "    \n",
    "<p>برای هر سال دو زیر دایرکتوری (subdirectory) وجود ‌دارد: </p>\n",
    "<ul>\n",
    "<li><p>data: حاوی نمودارها و اطلاعات بدست آمده از برخورد واقعی پروتون-پروتون می‌باشد.</p>\n",
    "</li>\n",
    "<li><p>simulation : حاوی نمودار رویدادهای شبیه سازی شده می‌باشد.</p>\n",
    "</li>\n",
    "</ul> \n",
    "    \n",
    "</div>   "
   ]
  },
  {
   "cell_type": "code",
   "execution_count": null,
   "id": "47753efa",
   "metadata": {},
   "outputs": [],
   "source": [
    "AllFiles = {2011:{}, 2012:{}}\n",
    "for year in [2011, 2012]:\n",
    "    print(year, \":\")\n",
    "    for subdir in ['simulation', 'data']:\n",
    "        theDirectory = \"{0}{1}/{2}\".format(DIR,year , subdir)\n",
    "        Files = [\"{0}/{1}\".format(theDirectory , f) for f in os.listdir(theDirectory)]\n",
    "        AllFiles[year][subdir] = sorted( Files )\n",
    "        \n",
    "        print('\\t', subdir , ':')\n",
    "        for f in AllFiles[year][subdir]:\n",
    "            print('\\t\\t' , f )"
   ]
  },
  {
   "cell_type": "markdown",
   "id": "e59db8f6",
   "metadata": {
    "direction": "rtl"
   },
   "source": [
    "<div dir = \"rtl\">\n",
    "    \n",
    "<p>فایل های رویدادهای شبیه سازی شده (simulation) براساس نامشان طبقه بندی شده اند:  </p>\n",
    "<ul>\n",
    "<li><p>DY: به فرایندی که دو پروتون با یکدیگر برخورد کرده و دو لپتون از طریق بوزون Z یا فوتون تولید شود، drell-yan گفته می شود. </p>\n",
    "</li>\n",
    "<li><p>DY10: رویدادهایی که در آن ها جرم ناوردای دو لپتون &gt; 10GeV و کمتر از 50GeV می باشد.  </p>\n",
    "</li>\n",
    "<li><p>DY50: رویدادهایی که در آن ها جرم ناوردای دو لپتون &gt; 50 GeV می باشد. (بیشتر بوزون Z) </p>\n",
    "</li>\n",
    "<li><p>ZZ </p>\n",
    "<ul>\n",
    "<li>2mu2el </li>\n",
    "<li>4el </li>\n",
    "<li>4mu  </li>\n",
    "</ul>\n",
    "</li>\n",
    "</ul>\n",
    "<ul>\n",
    "<li><p>TTBar</p>\n",
    "</li>\n",
    "<li><p>HZZ: سیگنال    </p>\n",
    "</li>\n",
    "</ul>\n",
    "<p>برای داده واقعی (data) دو فایل موجود است : </p>\n",
    "<ul>\n",
    "<li><p>DoubleE: رویدادهایی که به دلیل داشتن حداقل دو الکترون ذخیره شده اند. </p>\n",
    "</li>\n",
    "<li><p>DoubleMu: رویدادهایی که به دلیل داشتن حداقل دو میون ذخیره شده اند.</p>\n",
    "</li>\n",
    "</ul>\n",
    "<p>اکنون یکی از فایل ها را باز می کنیم و نگاهی به داخل آن می اندازیم.\n",
    "(برای مثال ‍<code>home/RootFiles/2011/data/DoubleE11.root/</code>)</p>\n",
    "<p><strong>برای این کار ما باید ابتدا ماژول ROOT را بارگذاری کنیم.</strong></p>\n",
    "\n",
    "</div>"
   ]
  },
  {
   "cell_type": "code",
   "execution_count": null,
   "id": "8ca7814b",
   "metadata": {},
   "outputs": [],
   "source": [
    "import ROOT\n",
    "%jsroot on\n",
    "canvas = ROOT.TCanvas(\"c1\", \"\", 200, 10, 600, 600)"
   ]
  },
  {
   "cell_type": "code",
   "execution_count": null,
   "id": "cdc991a2",
   "metadata": {},
   "outputs": [],
   "source": [
    "fE11 = ROOT.TFile.Open('/home/RootFiles/2011/data/DoubleE11.root')\n",
    "fE11.demo.ls()"
   ]
  },
  {
   "cell_type": "markdown",
   "id": "c190c05c",
   "metadata": {
    "direction": "rtl"
   },
   "source": [
    "<div dir = \"rtl\"> \n",
    "    \n",
    "<p>لیست بالا برای مثال دارای آیتم هایی به شکل زیر می باشد:</p>  \n",
    "</div> "
   ]
  },
  {
   "cell_type": "markdown",
   "id": "c67428ce",
   "metadata": {},
   "source": [
    " `KEY: TH1D\tNGoodElectron;1\tNo. of good electron`"
   ]
  },
  {
   "cell_type": "markdown",
   "id": "31d1a67f",
   "metadata": {
    "direction": "rtl"
   },
   "source": [
    "<div dir = \"rtl\">\n",
    "    \n",
    "<p>این آیتم ها حاوی اطلاعاتی به شرح زیر می باشند: </p>\n",
    "<ul>\n",
    "<li>TH1D: نشان می دهد که این object یک هیستوگرام است. \n",
    "برای دریافت اطلاعات بیشتر در مورد TH1D <a href=\"https://root.cern.ch/doc/master/classTH1.html\">اینجا</a> را ببینید.</li>\n",
    "<li>مورد دوم NGoodElectron است و نام هیستوگرام را نشان می دهد.</li>\n",
    "<li>قسمت آخر نیز توضیحی است که به ما در فهم آن کمک می کند: برای این مثال، توضیح می دهد که این هیستوگرام تعداد good electrons را نشان می دهد.</li>\n",
    "</ul>\n",
    "<p>برای بدست آوردن هیستوگرام از فایل و رسم آن، می توانیم از تابع <code>() Get.</code> استفاده کنیم:</p>\n",
    "\n",
    "\n",
    "</div>   "
   ]
  },
  {
   "cell_type": "code",
   "execution_count": null,
   "id": "6b06b3ba",
   "metadata": {},
   "outputs": [],
   "source": [
    "%jsroot on\n",
    "htest = fE11.demo.Get(\"NGoodElectron\")\n",
    "htest.SetDirectory(0) #this is needed to keep the histogram in the memoery, even if the file is closed\n",
    "htest.Draw()\n",
    "canvas.SetLogy()\n",
    "canvas.Draw()"
   ]
  },
  {
   "cell_type": "markdown",
   "id": "ea3ee217",
   "metadata": {
    "direction": "rtl"
   },
   "source": [
    "<div dir = \"rtl\"> \n",
    "\n",
    "<p><strong>آنچه از این هیستوگرام می فهمیم:</strong></p>\n",
    "\n",
    "   \n",
    "<p>ما در حال مشاهده فایل <code>DoubleE</code> هستیم. بنابراین انتظار‌داریم که رویدادها‌یی با دو الکترون داشته باشیم.</p>\n",
    "<ul>\n",
    "<li> در حدود 44 میلیون رویداد در فایل ذخیره ‌شده‌است.</li>  \n",
    "<li>اکثر رویدادها در بین (bin) اول و دوم هیستوگرام قرار‌دارند: (no good electron)</li>\n",
    "<li>حدود 1 میلیون از رویدادها دو الکترون خوب (good electron) دارند. </li>\n",
    "<li>کمتر از 20 رویداد 4 الکترون خوب دارند.  </li>\n",
    "</ul>\n",
    "<p>‍\n",
    "اکنون بیایید نگاهی بیندازیم به هیستوگرام ‍‍<code>massZto2e</code> برای رویدادهای با 2 ‌الکترون.</p>\n",
    "\n",
    "</div>   "
   ]
  },
  {
   "cell_type": "code",
   "execution_count": null,
   "id": "46c2445c",
   "metadata": {},
   "outputs": [],
   "source": [
    "htest = fE11.demo.Get(\"massZto2e\")\n",
    "htest.SetDirectory(0)\n",
    "htest.Draw()\n",
    "canvas.SetLogy()\n",
    "canvas.Draw()"
   ]
  },
  {
   "cell_type": "markdown",
   "id": "c1502900",
   "metadata": {
    "direction": "rtl"
   },
   "source": [
    "<div dir = \"rtl\"> \n",
    "\n",
    "<p>هیستوگرام بالا، جرم ناوردای دو الکترون را نشان می دهد( برای رویدادهایی که دو الکترون دارند). این هیستوگرام روی جرم بوزون Z پیک دارد، بنابراین عمده الکترون ها از واپاشی Z تولید شده اند.    </p>\n",
    "<p>ما به رویدادهایی با 4 لپتون علاقه مندیم، زیرا انتظار داریم Higgs -&gt; ZZ -&gt; 4 leptons را ببینیم. این رویدادها انتخاب شده و جرم ناوردای لپتون ها رسم شده است. آنها را می توان در این هیستوگرام ها یافت:</p>\n",
    "<ul>\n",
    "<li><p> 4میون، هیستوگرام <code>mass4mu_8TeV_low‍‍</code> باید از فایل <code>DoubleMu‍</code> خوانده شود.   </p>\n",
    "</li>\n",
    "<li><p> 4الکترون، هیستوگرام <code>mass4e_8TeV_low‍</code> باید از فایل <code>DoubleEle</code> خوانده شود.  </p>\n",
    "</li>\n",
    "<li><p>2Mu+2Ele، هیستوگرام <code>mass2mu2e_8TeV_low</code> باید از فایل <code>DoubleMu</code> خوانده شود.   </p>\n",
    "</li>\n",
    "</ul>\n",
    "<p><strong>به خاطر داشته باشید که برای داشتن آمار کل باید فایل های 2011 و 2012 را با یکدیگر جمع کنیم.</strong></p>\n",
    "\n",
    "</div>   "
   ]
  },
  {
   "cell_type": "code",
   "execution_count": null,
   "id": "715fe05f",
   "metadata": {},
   "outputs": [],
   "source": [
    "Data4LepPlot = ROOT.THStack(\"Data4LeptPlot\" , \"\")\n",
    "ROOT.gStyle.SetPalette(ROOT.kRainBow)\n",
    "allHists = {}\n",
    "for lep in ['Mu' , 'E']:\n",
    "    for year in [11,12]:\n",
    "        f = ROOT.TFile.Open(\"{0}20{1}/data/Double{2}{1}.root\".format(DIR , year , lep))\n",
    "        h1 = f.demo.Get(\"mass4{0}_8TeV_low\".format(lep.lower()))\n",
    "        h1.SetDirectory(0)\n",
    "        h1.SetTitle(\"4{0}, 20{1}\".format( '#mu' if lep==\"Mu\" else 'e',year))\n",
    "        Data4LepPlot.Add(h1)\n",
    "            \n",
    "        if lep=='Mu': #if the doubleMu file is opened, 2mu2e histogram should also be read\n",
    "            h2 = f.demo.Get(\"mass2mu2e_8TeV_low\".format(lep.lower()))\n",
    "            h2.SetDirectory(0)\n",
    "            h2.SetTitle(\"2#mu+2e, 20{0}\".format(year))\n",
    "            Data4LepPlot.Add(h2)\n",
    "        f.Close()\n",
    "#canvas2 = ROOT.TCanvas(\"Canvas4LepPlot\")\n",
    "Data4LepPlot.Draw(\"pfc\")\n",
    "Data4LepPlot.GetXaxis().SetTitle('m_{4l} [GeV]')\n",
    "canvas.BuildLegend(0.7,0.7,0.95,0.95 , \"Invariant mass of 4 leptons\", \"f\")\n",
    "canvas.SetLogy(False)\n",
    "canvas.Draw()"
   ]
  },
  {
   "cell_type": "markdown",
   "id": "dcd60ea2",
   "metadata": {
    "direction": "rtl"
   },
   "source": [
    "<div dir = \"rtl\"> \n",
    "\n",
    "<p>این هیستوگرام نشان می دهد که در سال 2011 و 2012، تعداد بسیار کمی رویداد با 4 لپتون رخ داده است. شما می توانید تعداد رویدادها  را برحسب جرم ناوردای 4 لپتون حساب کنید. حتی می توانیم ببینیم چه تعداد رویداد در هر کانال و هر سال وجود دارد.  </p>\n",
    "<ul>\n",
    "<li> <strong>تمرین: با توجه این هیستوگرام،در سال 2011 چه تعداد از رویدادهای با ‍2e+2mu  جرم ناوردای 175GeV دارند؟</strong>  </li>\n",
    "</ul>\n",
    "<ul>\n",
    "<li> <strong>تمرین تکمیلی: نمودار مشابهی برای جرم ثابت رویدادهایی با 2 لپتون تهیه نمایید.</strong></li>\n",
    "</ul>\n",
    "\n",
    " </div>   \n",
    "    "
   ]
  }
 ],
 "metadata": {
  "kernelspec": {
   "display_name": "Python 3 (ipykernel)",
   "language": "python",
   "name": "python3"
  },
  "language_info": {
   "codemirror_mode": {
    "name": "ipython",
    "version": 3
   },
   "file_extension": ".py",
   "mimetype": "text/x-python",
   "name": "python",
   "nbconvert_exporter": "python",
   "pygments_lexer": "ipython3",
   "version": "3.7.10"
  }
 },
 "nbformat": 4,
 "nbformat_minor": 5
}
